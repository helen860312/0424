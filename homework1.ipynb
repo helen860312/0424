{
 "cells": [
  {
   "cell_type": "code",
   "execution_count": 1,
   "metadata": {},
   "outputs": [
    {
     "name": "stdout",
     "output_type": "stream",
     "text": [
      "please input the number:100\n",
      "優等\n"
     ]
    }
   ],
   "source": [
    "score=input(\"please input the number:\")\n",
    "def is_number(s):\n",
    "    try:\n",
    "        float(s)\n",
    "        return True\n",
    "    except ValueError:\n",
    "        pass\n",
    " \n",
    "    try:\n",
    "        import unicodedata\n",
    "        unicodedata.numeric(s)\n",
    "        return True\n",
    "    except (TypeError, ValueError):\n",
    "        pass\n",
    " \n",
    "    return False\n",
    "\n",
    "if is_number(score):\n",
    "    score=int(score)\n",
    "    if score < 60 :\n",
    "        print(\"不及格\")\n",
    "    elif score < 80 :\n",
    "        print(\"及格\")\n",
    "    else :\n",
    "        print(\"優等\")\n",
    "else:\n",
    "    print(\"未知\")"
   ]
  },
  {
   "cell_type": "code",
   "execution_count": 2,
   "metadata": {},
   "outputs": [
    {
     "name": "stdout",
     "output_type": "stream",
     "text": [
      "please input the number:79\n",
      "及格\n"
     ]
    }
   ],
   "source": [
    "score=input(\"please input the number:\")\n",
    "def is_number(s):\n",
    "    try:\n",
    "        float(s)\n",
    "        return True\n",
    "    except ValueError:\n",
    "        pass\n",
    " \n",
    "    try:\n",
    "        import unicodedata\n",
    "        unicodedata.numeric(s)\n",
    "        return True\n",
    "    except (TypeError, ValueError):\n",
    "        pass\n",
    " \n",
    "    return False\n",
    "\n",
    "if is_number(score):\n",
    "    score=int(score)\n",
    "    if score < 60 :\n",
    "        print(\"不及格\")\n",
    "    elif score < 80 :\n",
    "        print(\"及格\")\n",
    "    else :\n",
    "        print(\"優等\")\n",
    "else:\n",
    "    print(\"未知\")"
   ]
  },
  {
   "cell_type": "code",
   "execution_count": 3,
   "metadata": {},
   "outputs": [
    {
     "name": "stdout",
     "output_type": "stream",
     "text": [
      "please input the number:59\n",
      "不及格\n"
     ]
    }
   ],
   "source": [
    "score=input(\"please input the number:\")\n",
    "def is_number(s):\n",
    "    try:\n",
    "        float(s)\n",
    "        return True\n",
    "    except ValueError:\n",
    "        pass\n",
    " \n",
    "    try:\n",
    "        import unicodedata\n",
    "        unicodedata.numeric(s)\n",
    "        return True\n",
    "    except (TypeError, ValueError):\n",
    "        pass\n",
    " \n",
    "    return False\n",
    "\n",
    "if is_number(score):\n",
    "    score=int(score)\n",
    "    if score < 60 :\n",
    "        print(\"不及格\")\n",
    "    elif score < 80 :\n",
    "        print(\"及格\")\n",
    "    else :\n",
    "        print(\"優等\")\n",
    "else:\n",
    "    print(\"未知\")"
   ]
  },
  {
   "cell_type": "code",
   "execution_count": 4,
   "metadata": {},
   "outputs": [
    {
     "name": "stdout",
     "output_type": "stream",
     "text": [
      "please input the number:哈哈哈\n",
      "未知\n"
     ]
    }
   ],
   "source": [
    "score=input(\"please input the number:\")\n",
    "def is_number(s):\n",
    "    try:\n",
    "        float(s)\n",
    "        return True\n",
    "    except ValueError:\n",
    "        pass\n",
    " \n",
    "    try:\n",
    "        import unicodedata\n",
    "        unicodedata.numeric(s)\n",
    "        return True\n",
    "    except (TypeError, ValueError):\n",
    "        pass\n",
    " \n",
    "    return False\n",
    "\n",
    "if is_number(score):\n",
    "    score=int(score)\n",
    "    if score < 60 :\n",
    "        print(\"不及格\")\n",
    "    elif score < 80 :\n",
    "        print(\"及格\")\n",
    "    else :\n",
    "        print(\"優等\")\n",
    "else:\n",
    "    print(\"未知\")"
   ]
  },
  {
   "cell_type": "code",
   "execution_count": null,
   "metadata": {},
   "outputs": [],
   "source": []
  }
 ],
 "metadata": {
  "kernelspec": {
   "display_name": "Python 3",
   "language": "python",
   "name": "python3"
  },
  "language_info": {
   "codemirror_mode": {
    "name": "ipython",
    "version": 3
   },
   "file_extension": ".py",
   "mimetype": "text/x-python",
   "name": "python",
   "nbconvert_exporter": "python",
   "pygments_lexer": "ipython3",
   "version": "3.7.1"
  }
 },
 "nbformat": 4,
 "nbformat_minor": 2
}
