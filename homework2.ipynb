{
 "cells": [
  {
   "cell_type": "code",
   "execution_count": 1,
   "metadata": {},
   "outputs": [
    {
     "name": "stdout",
     "output_type": "stream",
     "text": [
      "猜不到\n",
      "please input the number:3\n",
      "猜不到\n",
      "please input the number:5\n",
      "猜不到\n",
      "please input the number:7\n",
      "猜不到\n",
      "please input the number:8\n",
      "退出\n"
     ]
    }
   ],
   "source": [
    "number=0\n",
    "while ((number != 8) and (number != \"q\")):\n",
    "    print(\"猜不到\")\n",
    "    number=input(\"please input the number:\")\n",
    "    if number!=\"q\":\n",
    "        number=int(number)\n",
    "print(\"退出\")"
   ]
  },
  {
   "cell_type": "code",
   "execution_count": 2,
   "metadata": {},
   "outputs": [
    {
     "name": "stdout",
     "output_type": "stream",
     "text": [
      "猜不到\n",
      "please input the number:2\n",
      "猜不到\n",
      "please input the number:4\n",
      "猜不到\n",
      "please input the number:1\n",
      "猜不到\n",
      "please input the number:q\n",
      "退出\n"
     ]
    }
   ],
   "source": [
    "number=0\n",
    "while ((number != 8) and (number != \"q\")):\n",
    "    print(\"猜不到\")\n",
    "    number=input(\"please input the number:\")\n",
    "    if number!=\"q\":\n",
    "        number=int(number)\n",
    "print(\"退出\")"
   ]
  },
  {
   "cell_type": "code",
   "execution_count": null,
   "metadata": {},
   "outputs": [],
   "source": []
  }
 ],
 "metadata": {
  "kernelspec": {
   "display_name": "Python 3",
   "language": "python",
   "name": "python3"
  },
  "language_info": {
   "codemirror_mode": {
    "name": "ipython",
    "version": 3
   },
   "file_extension": ".py",
   "mimetype": "text/x-python",
   "name": "python",
   "nbconvert_exporter": "python",
   "pygments_lexer": "ipython3",
   "version": "3.7.1"
  }
 },
 "nbformat": 4,
 "nbformat_minor": 2
}
